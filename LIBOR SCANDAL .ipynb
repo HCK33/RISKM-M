{
 "cells": [
  {
   "cell_type": "code",
   "execution_count": 5,
   "metadata": {},
   "outputs": [],
   "source": [
    "import os\n",
    "import numpy as np\n",
    "import pandas as pd\n",
    "import sys\n",
    "import math\n",
    "import matplotlib.pyplot as plt"
   ]
  },
  {
   "cell_type": "code",
   "execution_count": 6,
   "metadata": {},
   "outputs": [],
   "source": [
    "df = pd.read_csv(os.path.join('LIBOR_GOFO_GLR.CSV'))"
   ]
  },
  {
   "cell_type": "code",
   "execution_count": 7,
   "metadata": {},
   "outputs": [
    {
     "data": {
      "text/html": [
       "<div>\n",
       "<style scoped>\n",
       "    .dataframe tbody tr th:only-of-type {\n",
       "        vertical-align: middle;\n",
       "    }\n",
       "\n",
       "    .dataframe tbody tr th {\n",
       "        vertical-align: top;\n",
       "    }\n",
       "\n",
       "    .dataframe thead th {\n",
       "        text-align: right;\n",
       "    }\n",
       "</style>\n",
       "<table border=\"1\" class=\"dataframe\">\n",
       "  <thead>\n",
       "    <tr style=\"text-align: right;\">\n",
       "      <th></th>\n",
       "      <th>Date</th>\n",
       "      <th>GOFO_1M</th>\n",
       "      <th>GOFO_2M</th>\n",
       "      <th>GOFO_3M</th>\n",
       "      <th>GOFO_6M</th>\n",
       "      <th>GOFO_12M</th>\n",
       "      <th>LIBOR_1M</th>\n",
       "      <th>LIBOR_2M</th>\n",
       "      <th>LIBOR_3M</th>\n",
       "      <th>LIBOR_6M</th>\n",
       "      <th>LIBOR_12M</th>\n",
       "      <th>GLR_1M</th>\n",
       "      <th>GLR_2M</th>\n",
       "      <th>GLR_3M</th>\n",
       "      <th>GLR_6M</th>\n",
       "      <th>GLR_12M</th>\n",
       "    </tr>\n",
       "  </thead>\n",
       "  <tbody>\n",
       "    <tr>\n",
       "      <td>0</td>\n",
       "      <td>2012-12-31</td>\n",
       "      <td>0.29400</td>\n",
       "      <td>0.324</td>\n",
       "      <td>0.34800</td>\n",
       "      <td>0.41800</td>\n",
       "      <td>0.46600</td>\n",
       "      <td>0.2087</td>\n",
       "      <td>0.2535</td>\n",
       "      <td>0.306</td>\n",
       "      <td>0.50825</td>\n",
       "      <td>0.8435</td>\n",
       "      <td>-0.08530</td>\n",
       "      <td>-0.0705</td>\n",
       "      <td>-0.04200</td>\n",
       "      <td>0.09025</td>\n",
       "      <td>0.37750</td>\n",
       "    </tr>\n",
       "    <tr>\n",
       "      <td>1</td>\n",
       "      <td>2012-12-28</td>\n",
       "      <td>0.28400</td>\n",
       "      <td>0.320</td>\n",
       "      <td>0.34600</td>\n",
       "      <td>0.42400</td>\n",
       "      <td>0.47400</td>\n",
       "      <td>0.2097</td>\n",
       "      <td>0.2535</td>\n",
       "      <td>0.308</td>\n",
       "      <td>0.50825</td>\n",
       "      <td>0.8435</td>\n",
       "      <td>-0.07430</td>\n",
       "      <td>-0.0665</td>\n",
       "      <td>-0.03800</td>\n",
       "      <td>0.08425</td>\n",
       "      <td>0.36950</td>\n",
       "    </tr>\n",
       "    <tr>\n",
       "      <td>2</td>\n",
       "      <td>2012-12-27</td>\n",
       "      <td>0.30600</td>\n",
       "      <td>0.332</td>\n",
       "      <td>0.35800</td>\n",
       "      <td>0.42800</td>\n",
       "      <td>0.47400</td>\n",
       "      <td>0.2117</td>\n",
       "      <td>0.2550</td>\n",
       "      <td>0.311</td>\n",
       "      <td>0.51025</td>\n",
       "      <td>0.8435</td>\n",
       "      <td>-0.09430</td>\n",
       "      <td>-0.0770</td>\n",
       "      <td>-0.04700</td>\n",
       "      <td>0.08225</td>\n",
       "      <td>0.36950</td>\n",
       "    </tr>\n",
       "    <tr>\n",
       "      <td>3</td>\n",
       "      <td>2012-12-24</td>\n",
       "      <td>0.32200</td>\n",
       "      <td>0.346</td>\n",
       "      <td>0.37800</td>\n",
       "      <td>0.43600</td>\n",
       "      <td>0.48400</td>\n",
       "      <td>0.2097</td>\n",
       "      <td>0.2540</td>\n",
       "      <td>0.310</td>\n",
       "      <td>0.51025</td>\n",
       "      <td>0.8430</td>\n",
       "      <td>-0.11230</td>\n",
       "      <td>-0.0920</td>\n",
       "      <td>-0.06800</td>\n",
       "      <td>0.07425</td>\n",
       "      <td>0.35900</td>\n",
       "    </tr>\n",
       "    <tr>\n",
       "      <td>4</td>\n",
       "      <td>2012-12-21</td>\n",
       "      <td>0.32333</td>\n",
       "      <td>0.360</td>\n",
       "      <td>0.38833</td>\n",
       "      <td>0.44667</td>\n",
       "      <td>0.48167</td>\n",
       "      <td>0.2097</td>\n",
       "      <td>0.2540</td>\n",
       "      <td>0.310</td>\n",
       "      <td>0.51025</td>\n",
       "      <td>0.8430</td>\n",
       "      <td>-0.11363</td>\n",
       "      <td>-0.1060</td>\n",
       "      <td>-0.07833</td>\n",
       "      <td>0.06358</td>\n",
       "      <td>0.36133</td>\n",
       "    </tr>\n",
       "  </tbody>\n",
       "</table>\n",
       "</div>"
      ],
      "text/plain": [
       "         Date  GOFO_1M  GOFO_2M  GOFO_3M  GOFO_6M  GOFO_12M  LIBOR_1M  \\\n",
       "0  2012-12-31  0.29400    0.324  0.34800  0.41800   0.46600    0.2087   \n",
       "1  2012-12-28  0.28400    0.320  0.34600  0.42400   0.47400    0.2097   \n",
       "2  2012-12-27  0.30600    0.332  0.35800  0.42800   0.47400    0.2117   \n",
       "3  2012-12-24  0.32200    0.346  0.37800  0.43600   0.48400    0.2097   \n",
       "4  2012-12-21  0.32333    0.360  0.38833  0.44667   0.48167    0.2097   \n",
       "\n",
       "   LIBOR_2M  LIBOR_3M  LIBOR_6M  LIBOR_12M   GLR_1M  GLR_2M   GLR_3M   GLR_6M  \\\n",
       "0    0.2535     0.306   0.50825     0.8435 -0.08530 -0.0705 -0.04200  0.09025   \n",
       "1    0.2535     0.308   0.50825     0.8435 -0.07430 -0.0665 -0.03800  0.08425   \n",
       "2    0.2550     0.311   0.51025     0.8435 -0.09430 -0.0770 -0.04700  0.08225   \n",
       "3    0.2540     0.310   0.51025     0.8430 -0.11230 -0.0920 -0.06800  0.07425   \n",
       "4    0.2540     0.310   0.51025     0.8430 -0.11363 -0.1060 -0.07833  0.06358   \n",
       "\n",
       "   GLR_12M  \n",
       "0  0.37750  \n",
       "1  0.36950  \n",
       "2  0.36950  \n",
       "3  0.35900  \n",
       "4  0.36133  "
      ]
     },
     "execution_count": 7,
     "metadata": {},
     "output_type": "execute_result"
    }
   ],
   "source": [
    "df.head()"
   ]
  },
  {
   "cell_type": "code",
   "execution_count": 8,
   "metadata": {},
   "outputs": [
    {
     "name": "stdout",
     "output_type": "stream",
     "text": [
      "<class 'pandas.core.frame.DataFrame'>\n",
      "RangeIndex: 2779 entries, 0 to 2778\n",
      "Data columns (total 16 columns):\n",
      "Date         2779 non-null object\n",
      "GOFO_1M      2779 non-null float64\n",
      "GOFO_2M      2779 non-null float64\n",
      "GOFO_3M      2779 non-null float64\n",
      "GOFO_6M      2779 non-null float64\n",
      "GOFO_12M     2779 non-null float64\n",
      "LIBOR_1M     2779 non-null float64\n",
      "LIBOR_2M     2779 non-null float64\n",
      "LIBOR_3M     2779 non-null float64\n",
      "LIBOR_6M     2779 non-null float64\n",
      "LIBOR_12M    2779 non-null float64\n",
      "GLR_1M       2779 non-null float64\n",
      "GLR_2M       2779 non-null float64\n",
      "GLR_3M       2779 non-null float64\n",
      "GLR_6M       2779 non-null float64\n",
      "GLR_12M      2020 non-null float64\n",
      "dtypes: float64(15), object(1)\n",
      "memory usage: 347.5+ KB\n"
     ]
    },
    {
     "data": {
      "text/plain": [
       "Date           0\n",
       "GOFO_1M        0\n",
       "GOFO_2M        0\n",
       "GOFO_3M        0\n",
       "GOFO_6M        0\n",
       "GOFO_12M       0\n",
       "LIBOR_1M       0\n",
       "LIBOR_2M       0\n",
       "LIBOR_3M       0\n",
       "LIBOR_6M       0\n",
       "LIBOR_12M      0\n",
       "GLR_1M         0\n",
       "GLR_2M         0\n",
       "GLR_3M         0\n",
       "GLR_6M         0\n",
       "GLR_12M      759\n",
       "dtype: int64"
      ]
     },
     "execution_count": 8,
     "metadata": {},
     "output_type": "execute_result"
    }
   ],
   "source": [
    "#Data exploratory       \n",
    "df.describe()\n",
    "df.info()\n",
    "df.describe().transpose\n",
    "df.isnull().sum()"
   ]
  },
  {
   "cell_type": "code",
   "execution_count": 9,
   "metadata": {},
   "outputs": [],
   "source": [
    "#we create a function which output is the final counts, and the frequency of each count as a\n",
    "#percentage, are returned as lists to use in subsequent functions.\n",
    "def count_first_digit(data_str):#TAKE AS AN ARGUMENT A STR-COLUMN NAME\n",
    "    mask=df[data_str]>1.\n",
    "    data=list(df[mask][data_str])\n",
    "    for i in range(len(data)):\n",
    "        while data[i]>10:\n",
    "            data[i]=data[i]/10\n",
    "    first_digits=[int(x) for x in sorted(data)]\n",
    "    unique=(set(first_digits))#a list with unique values of first_digit list\n",
    "    data_count=[]\n",
    "    for i in unique:\n",
    "        count=first_digits.count(i)\n",
    "        data_count.append(count)\n",
    "    total_count=sum(data_count)\n",
    "    data_percentage=[(i/total_count)*100 for i in data_count]\n",
    "    return  total_count,data_count, data_percentage\n",
    "    \n",
    "    # Benford's Law percentages for leading digits 1-9\n",
    "BENFORD = [30.1, 17.6, 12.5, 9.7, 7.9, 6.7, 5.8, 5.1, 4.6]"
   ]
  },
  {
   "cell_type": "code",
   "execution_count": 10,
   "metadata": {},
   "outputs": [],
   "source": [
    "total_count,data_count, data_percentage=count_first_digit('GOFO_1M')"
   ]
  },
  {
   "cell_type": "code",
   "execution_count": 11,
   "metadata": {},
   "outputs": [
    {
     "name": "stdout",
     "output_type": "stream",
     "text": [
      "\n",
      "Chi-squared Test Statistic = 445.463\n",
      "Critical value at a P-value of 0.05 is 15.51.\n"
     ]
    },
    {
     "data": {
      "text/plain": [
       "False"
      ]
     },
     "execution_count": 11,
     "metadata": {},
     "output_type": "execute_result"
    }
   ],
   "source": [
    "\n",
    "def get_expected_counts(total_count):\n",
    "\n",
    "    \"\"\"Return list of expected Benford's Law counts for total sample count.\"\"\"\n",
    "\n",
    "    return [round(p * total_count / 100) for p in BENFORD]\n",
    "expected_counts=get_expected_counts(total_count)\n",
    "\n",
    "def chi_square_test(data_count,expected_counts):\n",
    "\n",
    "    \"\"\"Return boolean on chi-square test (8 degrees of freedom & P-val=0.05).\"\"\"\n",
    "\n",
    "    chi_square_stat = 0  # chi square test statistic\n",
    "\n",
    "    for data, expected in zip(data_count,expected_counts):\n",
    "\n",
    "        chi_square = math.pow(data - expected, 2)\n",
    "\n",
    "        chi_square_stat += chi_square / expected\n",
    "\n",
    "    print(\"\\nChi-squared Test Statistic = {:.3f}\".format(chi_square_stat))\n",
    "\n",
    "    print(\"Critical value at a P-value of 0.05 is 15.51.\")    \n",
    "\n",
    "    return chi_square_stat < 15.51\n",
    "chi_square_test(data_count,expected_counts)"
   ]
  },
  {
   "cell_type": "code",
   "execution_count": 12,
   "metadata": {},
   "outputs": [],
   "source": [
    "   #1st_bar_chart\n",
    "def bar_chart(data_pct):\n",
    "\n",
    "    \"\"\"Make bar chart of observed vs expected 1st digit frequency in percent.\"\"\"\n",
    "\n",
    "    fig, ax = plt.subplots()\n",
    "    index = [i + 1 for i in range(len(data_pct))]  # 1st digits for x-axis\n",
    "# text for labels, title and ticks\n",
    "\n",
    "    fig.canvas.set_window_title('Percentage First Digits')\n",
    "\n",
    "    ax.set_title('Data vs. Benford Values', fontsize=15)\n",
    "\n",
    "    ax.set_ylabel('Frequency (%)', fontsize=16)\n",
    "\n",
    "    ax.set_xticks(index)\n",
    "\n",
    "    ax.set_xticklabels(index, fontsize=14)\n",
    "    # build bars    \n",
    "\n",
    "    rects = ax.bar(index, data_pct, width=0.95, color='black', label='Data')\n",
    "\n",
    "\n",
    "\n",
    "# attach a text label above each bar displaying its height\n",
    "\n",
    "    for rect in rects:\n",
    "\n",
    "        height = rect.get_height()\n",
    "\n",
    "        ax.text(rect.get_x() + rect.get_width()/2, height,\n",
    "\n",
    "                '{:0.1f}'.format(height), ha='center', va='bottom', \n",
    "\n",
    "                fontsize=13)\n",
    "        # plot Benford values as red dots\n",
    "\n",
    "    ax.scatter(index, BENFORD, s=150, c='red', zorder=2, label='Benford')\n",
    "\n",
    "\n",
    "\n",
    "    # Hide the right and top spines & add legend\n",
    "\n",
    "    ax.spines['right'].set_visible(False)\n",
    "\n",
    "    ax.spines['top'].set_visible(False)\n",
    "\n",
    "    ax.legend(prop={'size':15}, frameon=False)\n",
    "\n",
    "    \n",
    "\n",
    "    plt.show()\n",
    "    \n",
    "    #2nd_bar_chart\n",
    "    labels=list(data_percentage)\n",
    "    width = 0.35 \n",
    "    x = np.arange(len(data_percentage)) # the label locations\n",
    "    width = 0.35  # the width of the bars\n",
    "    fig, ax = plt.subplots()\n",
    "    rects1 = ax.bar(x - width, data_percentage, width=0.95, color='black', label='Data')\n",
    "    rects2 = ax.bar(x + width, BENFORD,width,label='Benford')\n",
    "    # Add some text for labels, title and custom x-axis tick labels, etc.\n",
    "    ax.set_ylabel('Frequency (%)', fontsize=16)\n",
    "    ax.set_title('Benford')\n",
    "    ax.set_xticks(x)\n",
    "    ax.legend()\n",
    "    plt.show()"
   ]
  },
  {
   "cell_type": "code",
   "execution_count": 13,
   "metadata": {},
   "outputs": [],
   "source": [
    "#specify the main() function and runs the program & prints some statistics.\n",
    "def main(data_list):\n",
    "    total_count,data_count, data_percentage= count_first_digit(data_list)\n",
    "\n",
    "    expected_counts = get_expected_counts(total_count)\n",
    "\n",
    "    print(\"\\nobserved counts = {}\".format(data_count))\n",
    "\n",
    "    print(\"expected counts = {}\".format(expected_counts), \"\\n\")\n",
    "\n",
    "\n",
    "    print(\"First Digit Probabilities:\")\n",
    "\n",
    "    for i in range(1, len(data_percentage)+1):\n",
    "\n",
    "        print(\"{}: observed: {:.3f}  expected: {:.3f}\".\n",
    "\n",
    "              format(i, data_percentage[i - 1] / 100, BENFORD[i - 1] / 100))\n",
    "\n",
    "\n",
    "\n",
    "    if chi_square_test(data_count, expected_counts):\n",
    "\n",
    "        print(\"Observed distribution matches expected distribution.\")\n",
    "\n",
    "    else:\n",
    "\n",
    "        print(\"Observed distribution does not match expected.\", file=sys.stderr)       \n",
    "\n",
    "\n",
    "\n",
    "    ##bar_chart(data_percentage)\n",
    "    "
   ]
  },
  {
   "cell_type": "code",
   "execution_count": 18,
   "metadata": {},
   "outputs": [
    {
     "name": "stdout",
     "output_type": "stream",
     "text": [
      "\n",
      "observed counts = [770, 561, 541, 354, 481, 36, 9, 9, 11, 2]\n",
      "expected counts = [835, 488, 347, 269, 219, 186, 161, 141, 128] \n",
      "\n",
      "First Digit Probabilities:\n",
      "1: observed: 0.278  expected: 0.301\n",
      "2: observed: 0.202  expected: 0.176\n",
      "3: observed: 0.195  expected: 0.125\n",
      "4: observed: 0.128  expected: 0.097\n",
      "5: observed: 0.173  expected: 0.079\n",
      "6: observed: 0.013  expected: 0.067\n",
      "7: observed: 0.003  expected: 0.058\n",
      "8: observed: 0.003  expected: 0.051\n",
      "9: observed: 0.004  expected: 0.046\n"
     ]
    },
    {
     "ename": "IndexError",
     "evalue": "list index out of range",
     "output_type": "error",
     "traceback": [
      "\u001b[0;31m---------------------------------------------------------------------------\u001b[0m",
      "\u001b[0;31mIndexError\u001b[0m                                Traceback (most recent call last)",
      "\u001b[0;32m<ipython-input-18-6a1ed80973c4>\u001b[0m in \u001b[0;36m<module>\u001b[0;34m\u001b[0m\n\u001b[0;32m----> 1\u001b[0;31m \u001b[0mmain\u001b[0m\u001b[0;34m(\u001b[0m\u001b[0;34m'1M_NEW'\u001b[0m\u001b[0;34m)\u001b[0m\u001b[0;34m\u001b[0m\u001b[0;34m\u001b[0m\u001b[0m\n\u001b[0m",
      "\u001b[0;32m<ipython-input-13-c300092b6973>\u001b[0m in \u001b[0;36mmain\u001b[0;34m(data_list)\u001b[0m\n\u001b[1;32m     16\u001b[0m         print(\"{}: observed: {:.3f}  expected: {:.3f}\".\n\u001b[1;32m     17\u001b[0m \u001b[0;34m\u001b[0m\u001b[0m\n\u001b[0;32m---> 18\u001b[0;31m               format(i, data_percentage[i - 1] / 100, BENFORD[i - 1] / 100))\n\u001b[0m\u001b[1;32m     19\u001b[0m \u001b[0;34m\u001b[0m\u001b[0m\n\u001b[1;32m     20\u001b[0m \u001b[0;34m\u001b[0m\u001b[0m\n",
      "\u001b[0;31mIndexError\u001b[0m: list index out of range"
     ]
    }
   ],
   "source": [
    "main('1M_NEW')"
   ]
  },
  {
   "cell_type": "code",
   "execution_count": 15,
   "metadata": {},
   "outputs": [],
   "source": [
    "df['1M_NEW']= df['GOFO_1M']*10000"
   ]
  },
  {
   "cell_type": "code",
   "execution_count": 16,
   "metadata": {},
   "outputs": [
    {
     "data": {
      "text/plain": [
       "Index(['Date', 'GOFO_1M', 'GOFO_2M', 'GOFO_3M', 'GOFO_6M', 'GOFO_12M',\n",
       "       'LIBOR_1M', 'LIBOR_2M', 'LIBOR_3M', 'LIBOR_6M', 'LIBOR_12M', 'GLR_1M',\n",
       "       'GLR_2M', 'GLR_3M', 'GLR_6M', 'GLR_12M', '1M_NEW'],\n",
       "      dtype='object')"
      ]
     },
     "execution_count": 16,
     "metadata": {},
     "output_type": "execute_result"
    }
   ],
   "source": [
    "df.columns"
   ]
  },
  {
   "cell_type": "code",
   "execution_count": 17,
   "metadata": {},
   "outputs": [
    {
     "name": "stdout",
     "output_type": "stream",
     "text": [
      "Date\n",
      "GOFO_1M\n"
     ]
    },
    {
     "ename": "KeyError",
     "evalue": "\"None of [Float64Index([              2.94,               2.84,               3.06,\\n                            3.22,             3.2333, 3.4600000000000004,\\n              3.4799999999999995, 3.4200000000000004, 3.4499999999999997,\\n              3.4000000000000004,\\n              ...\\n                            12.5,               12.4,               12.9,\\n                            12.8, 13.200000000000001, 13.200000000000001,\\n              13.600000000000001,               13.4, 13.200000000000001,\\n                            12.5],\\n             dtype='float64', length=2779)] are in the [columns]\"",
     "output_type": "error",
     "traceback": [
      "\u001b[0;31m---------------------------------------------------------------------------\u001b[0m",
      "\u001b[0;31mKeyError\u001b[0m                                  Traceback (most recent call last)",
      "\u001b[0;32m<ipython-input-17-bce1d3eabc6b>\u001b[0m in \u001b[0;36m<module>\u001b[0;34m\u001b[0m\n\u001b[1;32m      3\u001b[0m     \u001b[0;32mif\u001b[0m \u001b[0mcol\u001b[0m \u001b[0;34m==\u001b[0m\u001b[0;34m'Date'\u001b[0m\u001b[0;34m:\u001b[0m \u001b[0;32mcontinue\u001b[0m\u001b[0;34m\u001b[0m\u001b[0;34m\u001b[0m\u001b[0m\n\u001b[1;32m      4\u001b[0m     \u001b[0mdf\u001b[0m\u001b[0;34m[\u001b[0m\u001b[0;34m'new'\u001b[0m\u001b[0;34m]\u001b[0m\u001b[0;34m=\u001b[0m \u001b[0mdf\u001b[0m\u001b[0;34m[\u001b[0m\u001b[0mcol\u001b[0m\u001b[0;34m]\u001b[0m\u001b[0;34m*\u001b[0m\u001b[0;36m10\u001b[0m\u001b[0;34m\u001b[0m\u001b[0;34m\u001b[0m\u001b[0m\n\u001b[0;32m----> 5\u001b[0;31m     \u001b[0mmain\u001b[0m\u001b[0;34m(\u001b[0m\u001b[0mdf\u001b[0m\u001b[0;34m[\u001b[0m\u001b[0;34m'new'\u001b[0m\u001b[0;34m]\u001b[0m\u001b[0;34m)\u001b[0m\u001b[0;34m\u001b[0m\u001b[0;34m\u001b[0m\u001b[0m\n\u001b[0m",
      "\u001b[0;32m<ipython-input-13-c300092b6973>\u001b[0m in \u001b[0;36mmain\u001b[0;34m(data_list)\u001b[0m\n\u001b[1;32m      1\u001b[0m \u001b[0;31m#specify the main() function and runs the program & prints some statistics.\u001b[0m\u001b[0;34m\u001b[0m\u001b[0;34m\u001b[0m\u001b[0;34m\u001b[0m\u001b[0m\n\u001b[1;32m      2\u001b[0m \u001b[0;32mdef\u001b[0m \u001b[0mmain\u001b[0m\u001b[0;34m(\u001b[0m\u001b[0mdata_list\u001b[0m\u001b[0;34m)\u001b[0m\u001b[0;34m:\u001b[0m\u001b[0;34m\u001b[0m\u001b[0;34m\u001b[0m\u001b[0m\n\u001b[0;32m----> 3\u001b[0;31m     \u001b[0mtotal_count\u001b[0m\u001b[0;34m,\u001b[0m\u001b[0mdata_count\u001b[0m\u001b[0;34m,\u001b[0m \u001b[0mdata_percentage\u001b[0m\u001b[0;34m=\u001b[0m \u001b[0mcount_first_digit\u001b[0m\u001b[0;34m(\u001b[0m\u001b[0mdata_list\u001b[0m\u001b[0;34m)\u001b[0m\u001b[0;34m\u001b[0m\u001b[0;34m\u001b[0m\u001b[0m\n\u001b[0m\u001b[1;32m      4\u001b[0m \u001b[0;34m\u001b[0m\u001b[0m\n\u001b[1;32m      5\u001b[0m     \u001b[0mexpected_counts\u001b[0m \u001b[0;34m=\u001b[0m \u001b[0mget_expected_counts\u001b[0m\u001b[0;34m(\u001b[0m\u001b[0mtotal_count\u001b[0m\u001b[0;34m)\u001b[0m\u001b[0;34m\u001b[0m\u001b[0;34m\u001b[0m\u001b[0m\n",
      "\u001b[0;32m<ipython-input-9-d773e225e226>\u001b[0m in \u001b[0;36mcount_first_digit\u001b[0;34m(data_str)\u001b[0m\n\u001b[1;32m      2\u001b[0m \u001b[0;31m#percentage, are returned as lists to use in subsequent functions.\u001b[0m\u001b[0;34m\u001b[0m\u001b[0;34m\u001b[0m\u001b[0;34m\u001b[0m\u001b[0m\n\u001b[1;32m      3\u001b[0m \u001b[0;32mdef\u001b[0m \u001b[0mcount_first_digit\u001b[0m\u001b[0;34m(\u001b[0m\u001b[0mdata_str\u001b[0m\u001b[0;34m)\u001b[0m\u001b[0;34m:\u001b[0m\u001b[0;31m#TAKE AS AN ARGUMENT A STR-COLUMN NAME\u001b[0m\u001b[0;34m\u001b[0m\u001b[0;34m\u001b[0m\u001b[0m\n\u001b[0;32m----> 4\u001b[0;31m     \u001b[0mmask\u001b[0m\u001b[0;34m=\u001b[0m\u001b[0mdf\u001b[0m\u001b[0;34m[\u001b[0m\u001b[0mdata_str\u001b[0m\u001b[0;34m]\u001b[0m\u001b[0;34m>\u001b[0m\u001b[0;36m1.\u001b[0m\u001b[0;34m\u001b[0m\u001b[0;34m\u001b[0m\u001b[0m\n\u001b[0m\u001b[1;32m      5\u001b[0m     \u001b[0mdata\u001b[0m\u001b[0;34m=\u001b[0m\u001b[0mlist\u001b[0m\u001b[0;34m(\u001b[0m\u001b[0mdf\u001b[0m\u001b[0;34m[\u001b[0m\u001b[0mmask\u001b[0m\u001b[0;34m]\u001b[0m\u001b[0;34m[\u001b[0m\u001b[0mdata_str\u001b[0m\u001b[0;34m]\u001b[0m\u001b[0;34m)\u001b[0m\u001b[0;34m\u001b[0m\u001b[0;34m\u001b[0m\u001b[0m\n\u001b[1;32m      6\u001b[0m     \u001b[0;32mfor\u001b[0m \u001b[0mi\u001b[0m \u001b[0;32min\u001b[0m \u001b[0mrange\u001b[0m\u001b[0;34m(\u001b[0m\u001b[0mlen\u001b[0m\u001b[0;34m(\u001b[0m\u001b[0mdata\u001b[0m\u001b[0;34m)\u001b[0m\u001b[0;34m)\u001b[0m\u001b[0;34m:\u001b[0m\u001b[0;34m\u001b[0m\u001b[0;34m\u001b[0m\u001b[0m\n",
      "\u001b[0;32m/opt/anaconda3/lib/python3.7/site-packages/pandas/core/frame.py\u001b[0m in \u001b[0;36m__getitem__\u001b[0;34m(self, key)\u001b[0m\n\u001b[1;32m   2984\u001b[0m             \u001b[0;32mif\u001b[0m \u001b[0mis_iterator\u001b[0m\u001b[0;34m(\u001b[0m\u001b[0mkey\u001b[0m\u001b[0;34m)\u001b[0m\u001b[0;34m:\u001b[0m\u001b[0;34m\u001b[0m\u001b[0;34m\u001b[0m\u001b[0m\n\u001b[1;32m   2985\u001b[0m                 \u001b[0mkey\u001b[0m \u001b[0;34m=\u001b[0m \u001b[0mlist\u001b[0m\u001b[0;34m(\u001b[0m\u001b[0mkey\u001b[0m\u001b[0;34m)\u001b[0m\u001b[0;34m\u001b[0m\u001b[0;34m\u001b[0m\u001b[0m\n\u001b[0;32m-> 2986\u001b[0;31m             \u001b[0mindexer\u001b[0m \u001b[0;34m=\u001b[0m \u001b[0mself\u001b[0m\u001b[0;34m.\u001b[0m\u001b[0mloc\u001b[0m\u001b[0;34m.\u001b[0m\u001b[0m_convert_to_indexer\u001b[0m\u001b[0;34m(\u001b[0m\u001b[0mkey\u001b[0m\u001b[0;34m,\u001b[0m \u001b[0maxis\u001b[0m\u001b[0;34m=\u001b[0m\u001b[0;36m1\u001b[0m\u001b[0;34m,\u001b[0m \u001b[0mraise_missing\u001b[0m\u001b[0;34m=\u001b[0m\u001b[0;32mTrue\u001b[0m\u001b[0;34m)\u001b[0m\u001b[0;34m\u001b[0m\u001b[0;34m\u001b[0m\u001b[0m\n\u001b[0m\u001b[1;32m   2987\u001b[0m \u001b[0;34m\u001b[0m\u001b[0m\n\u001b[1;32m   2988\u001b[0m         \u001b[0;31m# take() does not accept boolean indexers\u001b[0m\u001b[0;34m\u001b[0m\u001b[0;34m\u001b[0m\u001b[0;34m\u001b[0m\u001b[0m\n",
      "\u001b[0;32m/opt/anaconda3/lib/python3.7/site-packages/pandas/core/indexing.py\u001b[0m in \u001b[0;36m_convert_to_indexer\u001b[0;34m(self, obj, axis, is_setter, raise_missing)\u001b[0m\n\u001b[1;32m   1283\u001b[0m                 \u001b[0;31m# When setting, missing keys are not allowed, even with .loc:\u001b[0m\u001b[0;34m\u001b[0m\u001b[0;34m\u001b[0m\u001b[0;34m\u001b[0m\u001b[0m\n\u001b[1;32m   1284\u001b[0m                 \u001b[0mkwargs\u001b[0m \u001b[0;34m=\u001b[0m \u001b[0;34m{\u001b[0m\u001b[0;34m\"raise_missing\"\u001b[0m\u001b[0;34m:\u001b[0m \u001b[0;32mTrue\u001b[0m \u001b[0;32mif\u001b[0m \u001b[0mis_setter\u001b[0m \u001b[0;32melse\u001b[0m \u001b[0mraise_missing\u001b[0m\u001b[0;34m}\u001b[0m\u001b[0;34m\u001b[0m\u001b[0;34m\u001b[0m\u001b[0m\n\u001b[0;32m-> 1285\u001b[0;31m                 \u001b[0;32mreturn\u001b[0m \u001b[0mself\u001b[0m\u001b[0;34m.\u001b[0m\u001b[0m_get_listlike_indexer\u001b[0m\u001b[0;34m(\u001b[0m\u001b[0mobj\u001b[0m\u001b[0;34m,\u001b[0m \u001b[0maxis\u001b[0m\u001b[0;34m,\u001b[0m \u001b[0;34m**\u001b[0m\u001b[0mkwargs\u001b[0m\u001b[0;34m)\u001b[0m\u001b[0;34m[\u001b[0m\u001b[0;36m1\u001b[0m\u001b[0;34m]\u001b[0m\u001b[0;34m\u001b[0m\u001b[0;34m\u001b[0m\u001b[0m\n\u001b[0m\u001b[1;32m   1286\u001b[0m         \u001b[0;32melse\u001b[0m\u001b[0;34m:\u001b[0m\u001b[0;34m\u001b[0m\u001b[0;34m\u001b[0m\u001b[0m\n\u001b[1;32m   1287\u001b[0m             \u001b[0;32mtry\u001b[0m\u001b[0;34m:\u001b[0m\u001b[0;34m\u001b[0m\u001b[0;34m\u001b[0m\u001b[0m\n",
      "\u001b[0;32m/opt/anaconda3/lib/python3.7/site-packages/pandas/core/indexing.py\u001b[0m in \u001b[0;36m_get_listlike_indexer\u001b[0;34m(self, key, axis, raise_missing)\u001b[0m\n\u001b[1;32m   1090\u001b[0m \u001b[0;34m\u001b[0m\u001b[0m\n\u001b[1;32m   1091\u001b[0m         self._validate_read_indexer(\n\u001b[0;32m-> 1092\u001b[0;31m             \u001b[0mkeyarr\u001b[0m\u001b[0;34m,\u001b[0m \u001b[0mindexer\u001b[0m\u001b[0;34m,\u001b[0m \u001b[0mo\u001b[0m\u001b[0;34m.\u001b[0m\u001b[0m_get_axis_number\u001b[0m\u001b[0;34m(\u001b[0m\u001b[0maxis\u001b[0m\u001b[0;34m)\u001b[0m\u001b[0;34m,\u001b[0m \u001b[0mraise_missing\u001b[0m\u001b[0;34m=\u001b[0m\u001b[0mraise_missing\u001b[0m\u001b[0;34m\u001b[0m\u001b[0;34m\u001b[0m\u001b[0m\n\u001b[0m\u001b[1;32m   1093\u001b[0m         )\n\u001b[1;32m   1094\u001b[0m         \u001b[0;32mreturn\u001b[0m \u001b[0mkeyarr\u001b[0m\u001b[0;34m,\u001b[0m \u001b[0mindexer\u001b[0m\u001b[0;34m\u001b[0m\u001b[0;34m\u001b[0m\u001b[0m\n",
      "\u001b[0;32m/opt/anaconda3/lib/python3.7/site-packages/pandas/core/indexing.py\u001b[0m in \u001b[0;36m_validate_read_indexer\u001b[0;34m(self, key, indexer, axis, raise_missing)\u001b[0m\n\u001b[1;32m   1175\u001b[0m                 raise KeyError(\n\u001b[1;32m   1176\u001b[0m                     \"None of [{key}] are in the [{axis}]\".format(\n\u001b[0;32m-> 1177\u001b[0;31m                         \u001b[0mkey\u001b[0m\u001b[0;34m=\u001b[0m\u001b[0mkey\u001b[0m\u001b[0;34m,\u001b[0m \u001b[0maxis\u001b[0m\u001b[0;34m=\u001b[0m\u001b[0mself\u001b[0m\u001b[0;34m.\u001b[0m\u001b[0mobj\u001b[0m\u001b[0;34m.\u001b[0m\u001b[0m_get_axis_name\u001b[0m\u001b[0;34m(\u001b[0m\u001b[0maxis\u001b[0m\u001b[0;34m)\u001b[0m\u001b[0;34m\u001b[0m\u001b[0;34m\u001b[0m\u001b[0m\n\u001b[0m\u001b[1;32m   1178\u001b[0m                     )\n\u001b[1;32m   1179\u001b[0m                 )\n",
      "\u001b[0;31mKeyError\u001b[0m: \"None of [Float64Index([              2.94,               2.84,               3.06,\\n                            3.22,             3.2333, 3.4600000000000004,\\n              3.4799999999999995, 3.4200000000000004, 3.4499999999999997,\\n              3.4000000000000004,\\n              ...\\n                            12.5,               12.4,               12.9,\\n                            12.8, 13.200000000000001, 13.200000000000001,\\n              13.600000000000001,               13.4, 13.200000000000001,\\n                            12.5],\\n             dtype='float64', length=2779)] are in the [columns]\""
     ]
    }
   ],
   "source": [
    "for col in df.columns:\n",
    "    print(col)\n",
    "    if col =='Date': continue\n",
    "    df['new']= df[col]*10\n",
    "    main(df['new'])"
   ]
  },
  {
   "cell_type": "code",
   "execution_count": 19,
   "metadata": {},
   "outputs": [
    {
     "ename": "KeyError",
     "evalue": "'1M 2012 2/2'",
     "output_type": "error",
     "traceback": [
      "\u001b[0;31m---------------------------------------------------------------------------\u001b[0m",
      "\u001b[0;31mKeyError\u001b[0m                                  Traceback (most recent call last)",
      "\u001b[0;32m/opt/anaconda3/lib/python3.7/site-packages/pandas/core/indexes/base.py\u001b[0m in \u001b[0;36mget_loc\u001b[0;34m(self, key, method, tolerance)\u001b[0m\n\u001b[1;32m   2896\u001b[0m             \u001b[0;32mtry\u001b[0m\u001b[0;34m:\u001b[0m\u001b[0;34m\u001b[0m\u001b[0;34m\u001b[0m\u001b[0m\n\u001b[0;32m-> 2897\u001b[0;31m                 \u001b[0;32mreturn\u001b[0m \u001b[0mself\u001b[0m\u001b[0;34m.\u001b[0m\u001b[0m_engine\u001b[0m\u001b[0;34m.\u001b[0m\u001b[0mget_loc\u001b[0m\u001b[0;34m(\u001b[0m\u001b[0mkey\u001b[0m\u001b[0;34m)\u001b[0m\u001b[0;34m\u001b[0m\u001b[0;34m\u001b[0m\u001b[0m\n\u001b[0m\u001b[1;32m   2898\u001b[0m             \u001b[0;32mexcept\u001b[0m \u001b[0mKeyError\u001b[0m\u001b[0;34m:\u001b[0m\u001b[0;34m\u001b[0m\u001b[0;34m\u001b[0m\u001b[0m\n",
      "\u001b[0;32mpandas/_libs/index.pyx\u001b[0m in \u001b[0;36mpandas._libs.index.IndexEngine.get_loc\u001b[0;34m()\u001b[0m\n",
      "\u001b[0;32mpandas/_libs/index.pyx\u001b[0m in \u001b[0;36mpandas._libs.index.IndexEngine.get_loc\u001b[0;34m()\u001b[0m\n",
      "\u001b[0;32mpandas/_libs/hashtable_class_helper.pxi\u001b[0m in \u001b[0;36mpandas._libs.hashtable.PyObjectHashTable.get_item\u001b[0;34m()\u001b[0m\n",
      "\u001b[0;32mpandas/_libs/hashtable_class_helper.pxi\u001b[0m in \u001b[0;36mpandas._libs.hashtable.PyObjectHashTable.get_item\u001b[0;34m()\u001b[0m\n",
      "\u001b[0;31mKeyError\u001b[0m: '1M 2012 2/2'",
      "\nDuring handling of the above exception, another exception occurred:\n",
      "\u001b[0;31mKeyError\u001b[0m                                  Traceback (most recent call last)",
      "\u001b[0;32m<ipython-input-19-fe2bc9e58992>\u001b[0m in \u001b[0;36m<module>\u001b[0;34m\u001b[0m\n\u001b[0;32m----> 1\u001b[0;31m \u001b[0mmain\u001b[0m\u001b[0;34m(\u001b[0m\u001b[0mdf\u001b[0m\u001b[0;34m[\u001b[0m\u001b[0;34m'1M 2012 2/2'\u001b[0m\u001b[0;34m]\u001b[0m\u001b[0;34m*\u001b[0m\u001b[0;36m100\u001b[0m\u001b[0;34m)\u001b[0m\u001b[0;34m\u001b[0m\u001b[0;34m\u001b[0m\u001b[0m\n\u001b[0m",
      "\u001b[0;32m/opt/anaconda3/lib/python3.7/site-packages/pandas/core/frame.py\u001b[0m in \u001b[0;36m__getitem__\u001b[0;34m(self, key)\u001b[0m\n\u001b[1;32m   2978\u001b[0m             \u001b[0;32mif\u001b[0m \u001b[0mself\u001b[0m\u001b[0;34m.\u001b[0m\u001b[0mcolumns\u001b[0m\u001b[0;34m.\u001b[0m\u001b[0mnlevels\u001b[0m \u001b[0;34m>\u001b[0m \u001b[0;36m1\u001b[0m\u001b[0;34m:\u001b[0m\u001b[0;34m\u001b[0m\u001b[0;34m\u001b[0m\u001b[0m\n\u001b[1;32m   2979\u001b[0m                 \u001b[0;32mreturn\u001b[0m \u001b[0mself\u001b[0m\u001b[0;34m.\u001b[0m\u001b[0m_getitem_multilevel\u001b[0m\u001b[0;34m(\u001b[0m\u001b[0mkey\u001b[0m\u001b[0;34m)\u001b[0m\u001b[0;34m\u001b[0m\u001b[0;34m\u001b[0m\u001b[0m\n\u001b[0;32m-> 2980\u001b[0;31m             \u001b[0mindexer\u001b[0m \u001b[0;34m=\u001b[0m \u001b[0mself\u001b[0m\u001b[0;34m.\u001b[0m\u001b[0mcolumns\u001b[0m\u001b[0;34m.\u001b[0m\u001b[0mget_loc\u001b[0m\u001b[0;34m(\u001b[0m\u001b[0mkey\u001b[0m\u001b[0;34m)\u001b[0m\u001b[0;34m\u001b[0m\u001b[0;34m\u001b[0m\u001b[0m\n\u001b[0m\u001b[1;32m   2981\u001b[0m             \u001b[0;32mif\u001b[0m \u001b[0mis_integer\u001b[0m\u001b[0;34m(\u001b[0m\u001b[0mindexer\u001b[0m\u001b[0;34m)\u001b[0m\u001b[0;34m:\u001b[0m\u001b[0;34m\u001b[0m\u001b[0;34m\u001b[0m\u001b[0m\n\u001b[1;32m   2982\u001b[0m                 \u001b[0mindexer\u001b[0m \u001b[0;34m=\u001b[0m \u001b[0;34m[\u001b[0m\u001b[0mindexer\u001b[0m\u001b[0;34m]\u001b[0m\u001b[0;34m\u001b[0m\u001b[0;34m\u001b[0m\u001b[0m\n",
      "\u001b[0;32m/opt/anaconda3/lib/python3.7/site-packages/pandas/core/indexes/base.py\u001b[0m in \u001b[0;36mget_loc\u001b[0;34m(self, key, method, tolerance)\u001b[0m\n\u001b[1;32m   2897\u001b[0m                 \u001b[0;32mreturn\u001b[0m \u001b[0mself\u001b[0m\u001b[0;34m.\u001b[0m\u001b[0m_engine\u001b[0m\u001b[0;34m.\u001b[0m\u001b[0mget_loc\u001b[0m\u001b[0;34m(\u001b[0m\u001b[0mkey\u001b[0m\u001b[0;34m)\u001b[0m\u001b[0;34m\u001b[0m\u001b[0;34m\u001b[0m\u001b[0m\n\u001b[1;32m   2898\u001b[0m             \u001b[0;32mexcept\u001b[0m \u001b[0mKeyError\u001b[0m\u001b[0;34m:\u001b[0m\u001b[0;34m\u001b[0m\u001b[0;34m\u001b[0m\u001b[0m\n\u001b[0;32m-> 2899\u001b[0;31m                 \u001b[0;32mreturn\u001b[0m \u001b[0mself\u001b[0m\u001b[0;34m.\u001b[0m\u001b[0m_engine\u001b[0m\u001b[0;34m.\u001b[0m\u001b[0mget_loc\u001b[0m\u001b[0;34m(\u001b[0m\u001b[0mself\u001b[0m\u001b[0;34m.\u001b[0m\u001b[0m_maybe_cast_indexer\u001b[0m\u001b[0;34m(\u001b[0m\u001b[0mkey\u001b[0m\u001b[0;34m)\u001b[0m\u001b[0;34m)\u001b[0m\u001b[0;34m\u001b[0m\u001b[0;34m\u001b[0m\u001b[0m\n\u001b[0m\u001b[1;32m   2900\u001b[0m         \u001b[0mindexer\u001b[0m \u001b[0;34m=\u001b[0m \u001b[0mself\u001b[0m\u001b[0;34m.\u001b[0m\u001b[0mget_indexer\u001b[0m\u001b[0;34m(\u001b[0m\u001b[0;34m[\u001b[0m\u001b[0mkey\u001b[0m\u001b[0;34m]\u001b[0m\u001b[0;34m,\u001b[0m \u001b[0mmethod\u001b[0m\u001b[0;34m=\u001b[0m\u001b[0mmethod\u001b[0m\u001b[0;34m,\u001b[0m \u001b[0mtolerance\u001b[0m\u001b[0;34m=\u001b[0m\u001b[0mtolerance\u001b[0m\u001b[0;34m)\u001b[0m\u001b[0;34m\u001b[0m\u001b[0;34m\u001b[0m\u001b[0m\n\u001b[1;32m   2901\u001b[0m         \u001b[0;32mif\u001b[0m \u001b[0mindexer\u001b[0m\u001b[0;34m.\u001b[0m\u001b[0mndim\u001b[0m \u001b[0;34m>\u001b[0m \u001b[0;36m1\u001b[0m \u001b[0;32mor\u001b[0m \u001b[0mindexer\u001b[0m\u001b[0;34m.\u001b[0m\u001b[0msize\u001b[0m \u001b[0;34m>\u001b[0m \u001b[0;36m1\u001b[0m\u001b[0;34m:\u001b[0m\u001b[0;34m\u001b[0m\u001b[0;34m\u001b[0m\u001b[0m\n",
      "\u001b[0;32mpandas/_libs/index.pyx\u001b[0m in \u001b[0;36mpandas._libs.index.IndexEngine.get_loc\u001b[0;34m()\u001b[0m\n",
      "\u001b[0;32mpandas/_libs/index.pyx\u001b[0m in \u001b[0;36mpandas._libs.index.IndexEngine.get_loc\u001b[0;34m()\u001b[0m\n",
      "\u001b[0;32mpandas/_libs/hashtable_class_helper.pxi\u001b[0m in \u001b[0;36mpandas._libs.hashtable.PyObjectHashTable.get_item\u001b[0;34m()\u001b[0m\n",
      "\u001b[0;32mpandas/_libs/hashtable_class_helper.pxi\u001b[0m in \u001b[0;36mpandas._libs.hashtable.PyObjectHashTable.get_item\u001b[0;34m()\u001b[0m\n",
      "\u001b[0;31mKeyError\u001b[0m: '1M 2012 2/2'"
     ]
    }
   ],
   "source": [
    "main(df['1M 2012 2/2']*100)"
   ]
  },
  {
   "cell_type": "code",
   "execution_count": null,
   "metadata": {},
   "outputs": [],
   "source": []
  }
 ],
 "metadata": {
  "kernelspec": {
   "display_name": "Python 3",
   "language": "python",
   "name": "python3"
  },
  "language_info": {
   "codemirror_mode": {
    "name": "ipython",
    "version": 3
   },
   "file_extension": ".py",
   "mimetype": "text/x-python",
   "name": "python",
   "nbconvert_exporter": "python",
   "pygments_lexer": "ipython3",
   "version": "3.7.4"
  }
 },
 "nbformat": 4,
 "nbformat_minor": 2
}
